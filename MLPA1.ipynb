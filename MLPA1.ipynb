{
 "cells": [
  {
   "cell_type": "markdown",
   "metadata": {
    "colab_type": "text",
    "id": "TsfmsI0xMOUa"
   },
   "source": [
    "# Programming Assignment 1\n",
    "* CSCI-4930/5930 ML Spring 2019  (Be sure to discard which section you are not enrolled)\n",
    "* Author: Ashis Biswas (Replace my name with yours)"
   ]
  },
  {
   "cell_type": "markdown",
   "metadata": {
    "colab_type": "text",
    "id": "ZAAEMyNgMOUc"
   },
   "source": [
    "## Tasks for everyone (Tasks 1-15)"
   ]
  },
  {
   "cell_type": "markdown",
   "metadata": {
    "colab_type": "text",
    "id": "IXBANyEBMOUe"
   },
   "source": [
    "### TASK 1: Import all the necessary packages here\n"
   ]
  },
  {
   "cell_type": "code",
   "execution_count": 1,
   "metadata": {
    "colab": {
     "base_uri": "https://localhost:8080/",
     "height": 34
    },
    "colab_type": "code",
    "id": "FrrqmnPSMOUf",
    "outputId": "e48788de-3626-409c-b1a4-9ea8665ecb9e"
   },
   "outputs": [],
   "source": [
    "#Have included all the necessary header files needed for this programming assignment\n",
    "import pandas as pd\n",
    "import numpy as np\n",
    "import matplotlib.pyplot as plt\n",
    "from sklearn.preprocessing import StandardScaler\n",
    "from sklearn.preprocessing import Imputer\n",
    "from sklearn.preprocessing import OneHotEncoder\n",
    "import seaborn as sns\n",
    "from sklearn.preprocessing import LabelEncoder"
   ]
  },
  {
   "cell_type": "markdown",
   "metadata": {
    "colab_type": "text",
    "id": "KFR-WwfnMOUk"
   },
   "source": [
    "### TASK 2: Load the dataset into memory so that you can play with it here"
   ]
  },
  {
   "cell_type": "code",
   "execution_count": 2,
   "metadata": {
    "colab": {},
    "colab_type": "code",
    "id": "Jk3It1iSMOUl"
   },
   "outputs": [],
   "source": [
    "#Have loaded the dateset into the memory which was downloaded from canvas Machine Learning \n",
    "Atrain1 = pd.read_csv(\"C:/Users/gurun/Desktop/ML1/baby-weights-dataset2.csv\")\n",
    "Atrain2 = pd.read_csv(\"C:/Users/gurun/Desktop/ML1/judge-without-labels.csv\")\n",
    "\n",
    "\n"
   ]
  },
  {
   "cell_type": "markdown",
   "metadata": {
    "colab_type": "text",
    "id": "kAQFDepuMOUn"
   },
   "source": [
    "### TASK 3: Compute mean, stdev, min, max, 25% percentile, median and 75% percentile of the dataset (BWEIGHT variable)"
   ]
  },
  {
   "cell_type": "code",
   "execution_count": 3,
   "metadata": {
    "colab": {
     "base_uri": "https://localhost:8080/",
     "height": 153
    },
    "colab_type": "code",
    "id": "4xph38anMOUo",
    "outputId": "54fc3b6b-0bf2-43a4-960e-56a35220a343"
   },
   "outputs": [
    {
     "name": "stdout",
     "output_type": "stream",
     "text": [
      "BWEIGHT Variable\n",
      "Mean: 7.2580658284023665\n",
      "stdev  1.3294541253577947\n",
      "Min: 0.1875\n",
      "Max: 13.0625\n",
      "25% percentile:  6.625\n",
      "Median: 7.375\n",
      "75% Percentile:  8.0625\n"
     ]
    }
   ],
   "source": [
    "#Computing the mean, stdev, min, max, 25% percentile, median and 75% percentile of the dataset of BWEIGHT target variable \n",
    "print(\"BWEIGHT Variable\")\n",
    "Mean = Atrain1['BWEIGHT'].mean()\n",
    "print(\"Mean:\",Mean)\n",
    "STDEV = np.std(Atrain1['BWEIGHT'])\n",
    "print(\"stdev \",STDEV)\n",
    "Min = Atrain1['BWEIGHT'].min()\n",
    "print(\"Min:\",Min)\n",
    "Max = Atrain1['BWEIGHT'].max()\n",
    "print(\"Max:\",Max)\n",
    "Percetile25 = np.percentile(Atrain1['BWEIGHT'], 25)\n",
    "print(\"25% percentile: \",Percetile25)\n",
    "Percetile50 = np.percentile(Atrain1['BWEIGHT'], 50)\n",
    "print(\"Median:\",Percetile50)\n",
    "Percetile75 = np.percentile(Atrain1['BWEIGHT'], 75)\n",
    "print(\"75% Percentile: \",Percetile75)\n",
    "\n"
   ]
  },
  {
   "cell_type": "markdown",
   "metadata": {
    "colab_type": "text",
    "id": "L1D-imADQTq9"
   },
   "source": []
  },
  {
   "cell_type": "markdown",
   "metadata": {
    "colab_type": "text",
    "id": "GZb36RICMOUq"
   },
   "source": [
    "### TASK 4: Also, draw the histogram plot for the BWEIGHT variable\n"
   ]
  },
  {
   "cell_type": "code",
   "execution_count": 4,
   "metadata": {
    "colab": {
     "base_uri": "https://localhost:8080/",
     "height": 429
    },
    "colab_type": "code",
    "id": "CwwAvWhJMOUr",
    "outputId": "0d6411f1-56cf-4960-ecf5-643a40643e95"
   },
   "outputs": [
    {
     "name": "stderr",
     "output_type": "stream",
     "text": [
      "C:\\ProgramData\\Anaconda3\\lib\\site-packages\\scipy\\stats\\stats.py:1713: FutureWarning: Using a non-tuple sequence for multidimensional indexing is deprecated; use `arr[tuple(seq)]` instead of `arr[seq]`. In the future this will be interpreted as an array index, `arr[np.array(seq)]`, which will result either in an error or a different result.\n",
      "  return np.add.reduce(sorted[indexer] * weights, axis=axis) / sumval\n"
     ]
    },
    {
     "data": {
      "text/plain": [
       "<matplotlib.axes._subplots.AxesSubplot at 0x2416e313a90>"
      ]
     },
     "execution_count": 4,
     "metadata": {},
     "output_type": "execute_result"
    },
    {
     "data": {
      "image/png": "[encoded data removed]",
      "text/plain": [
       "<Figure size 432x288 with 1 Axes>"
      ]
     },
     "metadata": {
      "needs_background": "light"
     },
     "output_type": "display_data"
    }
   ],
   "source": [
    "#Using the Seaborn function to plot the histogram of the BWEIGHT variable\n",
    "sns.distplot(Atrain1['BWEIGHT'])\n",
    "\n",
    "\n"
   ]
  },
  {
   "cell_type": "markdown",
   "metadata": {
    "colab_type": "text",
    "id": "u4tgMmLUMOUu"
   },
   "source": [
    "### TASK 5: Present the skewness and kurtosis of the BWEIGHT target variable"
   ]
  },
  {
   "cell_type": "code",
   "execution_count": 5,
   "metadata": {
    "colab": {
     "base_uri": "https://localhost:8080/",
     "height": 68
    },
    "colab_type": "code",
    "id": "-AGZEcDVMOUu",
    "outputId": "553af999-5b29-4aa2-f751-a17413ae5262"
   },
   "outputs": [
    {
     "name": "stdout",
     "output_type": "stream",
     "text": [
      "Skewness: -0.936593\n",
      "Kurtosis: 2.868780\n"
     ]
    }
   ],
   "source": [
    "#Computing the Skewness and the Kurtosis of the BWEIGHT target variable\n",
    "print(\"Skewness: %f\" % Atrain1['BWEIGHT'].skew())\n",
    "print(\"Kurtosis: %f\" % Atrain1['BWEIGHT'].kurt())\n"
   ]
  },
  {
   "cell_type": "markdown",
   "metadata": {
    "colab_type": "text",
    "id": "OkkpNZv2MOUw"
   },
   "source": [
    "### TASK 6: Do variable selection from the pool of 124 variables based on correlation score with the target variable BWEIGHT \n",
    "### Please report all the variables you kept for training."
   ]
  },
  {
   "cell_type": "code",
   "execution_count": 6,
   "metadata": {
    "colab": {
     "base_uri": "https://localhost:8080/",
     "height": 102
    },
    "colab_type": "code",
    "id": "iWWklkizBF_i",
    "outputId": "ca499295-c047-43c8-84e9-870fe7a8ba9b"
   },
   "outputs": [],
   "source": [
    "#FINDING THE CATEGORICAL VALUES\n",
    "quantitative = [f for f in Atrain1.columns if Atrain1.dtypes[f] != 'object']\n",
    "quantitative.remove('BWEIGHT')\n",
    "quantitative.remove('ID')\n",
    "qualitative = [f for f in Atrain1.columns if Atrain1.dtypes[f] == 'object']\n",
    "\n"
   ]
  },
  {
   "cell_type": "code",
   "execution_count": 7,
   "metadata": {
    "colab": {
     "base_uri": "https://localhost:8080/",
     "height": 68
    },
    "colab_type": "code",
    "id": "womnmYXlBsJe",
    "outputId": "436d372f-678e-42d7-85eb-2c823a4d07c8"
   },
   "outputs": [],
   "source": [
    "#REPLACING THE MISSING QUALITATIVE VARIABLES AS MISSING\n",
    "for c in qualitative:\n",
    "    Atrain1[c] = Atrain1[c].astype('category')\n",
    "    if Atrain1[c].isnull().any():\n",
    "        Atrain1[c] = Atrain1[c].cat.add_categories(['MISSING'])\n",
    "        Atrain1[c] = Atrain1[c].fillna('MISSING')\n",
    "        \n"
   ]
  },
  {
   "cell_type": "code",
   "execution_count": null,
   "metadata": {
    "colab": {
     "base_uri": "https://localhost:8080/",
     "height": 450
    },
    "colab_type": "code",
    "id": "2KfvhyRgB-Ut",
    "outputId": "1ceb0b3a-8dd9-4759-c6b0-5db2784c8a0c"
   },
   "outputs": [],
   "source": [
    "\n",
    "\n"
   ]
  },
  {
   "cell_type": "code",
   "execution_count": 8,
   "metadata": {
    "colab": {
     "base_uri": "https://localhost:8080/",
     "height": 459
    },
    "colab_type": "code",
    "id": "R1h_geC3Ctcz",
    "outputId": "e3ca1ce4-7a5d-4714-e1ba-25788699362e"
   },
   "outputs": [
    {
     "name": "stdout",
     "output_type": "stream",
     "text": [
      "['HISPMOM_E', 'HISPDAD_E']\n"
     ]
    },
    {
     "data": {
      "text/plain": [
       "list"
      ]
     },
     "execution_count": 8,
     "metadata": {},
     "output_type": "execute_result"
    }
   ],
   "source": [
    "#ENCODING THE QUALITATIVE VARIABLES AS HISPMOM_E and HISPDAD_E\n",
    "\n",
    "def encode(frame, feature):\n",
    "    ordering = pd.DataFrame()\n",
    "    ordering['val'] = frame[feature].unique()\n",
    "    ordering.index = ordering.val\n",
    "    ordering['spmean'] = frame[[feature, 'BWEIGHT']].groupby(feature).mean()['BWEIGHT']\n",
    "    ordering = ordering.sort_values('spmean')\n",
    "    ordering['ordering'] = range(1, ordering.shape[0]+1)\n",
    "    ordering = ordering['ordering'].to_dict()\n",
    "    for cat, o in ordering.items():\n",
    "        frame.loc[frame[feature] == cat, feature+'_E'] = o\n",
    "qual_encoded = []\n",
    "for q in qualitative:  \n",
    "    encode(Atrain1, q)\n",
    "    qual_encoded.append(q+'_E')\n",
    "print(qual_encoded)\n",
    "type(qualitative)"
   ]
  },
  {
   "cell_type": "markdown",
   "metadata": {
    "colab_type": "text",
    "id": "wSI97ITkMOUy"
   },
   "source": [
    " TASK 7: CHECK FOR MISSING DATA, AND APPLY A \"GOOD\" STRATEGY TO TACKLE IT"
   ]
  },
  {
   "cell_type": "code",
   "execution_count": 9,
   "metadata": {
    "colab": {
     "base_uri": "https://localhost:8080/",
     "height": 1482
    },
    "colab_type": "code",
    "id": "3oqQMrrIMOUw",
    "outputId": "835eb3a6-7c01-4782-b9e8-e0ca1944c403"
   },
   "outputs": [
    {
     "name": "stderr",
     "output_type": "stream",
     "text": [
      "C:\\ProgramData\\Anaconda3\\lib\\site-packages\\sklearn\\preprocessing\\_encoders.py:368: FutureWarning: The handling of integer data will change in version 0.22. Currently, the categories are determined based on the range [0, max(values)], while in the future they will be determined based on the unique values.\n",
      "If you want the future behaviour and silence this warning, you can specify \"categories='auto'\".\n",
      "In case you used a LabelEncoder before this OneHotEncoder to convert the categories to integers, then you can now use the OneHotEncoder directly.\n",
      "  warnings.warn(msg, FutureWarning)\n",
      "C:\\ProgramData\\Anaconda3\\lib\\site-packages\\sklearn\\preprocessing\\_encoders.py:368: FutureWarning: The handling of integer data will change in version 0.22. Currently, the categories are determined based on the range [0, max(values)], while in the future they will be determined based on the unique values.\n",
      "If you want the future behaviour and silence this warning, you can specify \"categories='auto'\".\n",
      "In case you used a LabelEncoder before this OneHotEncoder to convert the categories to integers, then you can now use the OneHotEncoder directly.\n",
      "  warnings.warn(msg, FutureWarning)\n",
      "C:\\ProgramData\\Anaconda3\\lib\\site-packages\\sklearn\\preprocessing\\_encoders.py:368: FutureWarning: The handling of integer data will change in version 0.22. Currently, the categories are determined based on the range [0, max(values)], while in the future they will be determined based on the unique values.\n",
      "If you want the future behaviour and silence this warning, you can specify \"categories='auto'\".\n",
      "In case you used a LabelEncoder before this OneHotEncoder to convert the categories to integers, then you can now use the OneHotEncoder directly.\n",
      "  warnings.warn(msg, FutureWarning)\n",
      "C:\\ProgramData\\Anaconda3\\lib\\site-packages\\sklearn\\preprocessing\\_encoders.py:368: FutureWarning: The handling of integer data will change in version 0.22. Currently, the categories are determined based on the range [0, max(values)], while in the future they will be determined based on the unique values.\n",
      "If you want the future behaviour and silence this warning, you can specify \"categories='auto'\".\n",
      "In case you used a LabelEncoder before this OneHotEncoder to convert the categories to integers, then you can now use the OneHotEncoder directly.\n",
      "  warnings.warn(msg, FutureWarning)\n"
     ]
    },
    {
     "data": {
      "text/plain": [
       "['RaceMom_0',\n",
       " 'RaceMom_1',\n",
       " 'RaceMom_2',\n",
       " 'RaceMom_3',\n",
       " 'RaceMom_4',\n",
       " 'RaceMom_5',\n",
       " 'RaceMom_6',\n",
       " 'RaceMom_7',\n",
       " 'RaceMom_8',\n",
       " 'RaceDad_0',\n",
       " 'RaceDad_1',\n",
       " 'RaceDad_2',\n",
       " 'RaceDad_3',\n",
       " 'RaceDad_4',\n",
       " 'RaceDad_5',\n",
       " 'RaceDad_6',\n",
       " 'RaceDad_7',\n",
       " 'RaceDad_8',\n",
       " 'RaceDad_9',\n",
       " 'HispMom_0',\n",
       " 'HispMom_1',\n",
       " 'HispMom_2',\n",
       " 'HispMom_3',\n",
       " 'HispMom_4',\n",
       " 'HispMom_5',\n",
       " 'HispMom_6',\n",
       " 'HispDad_0',\n",
       " 'HispDad_1',\n",
       " 'HispDad_2',\n",
       " 'HispDad_3',\n",
       " 'HispDad_4',\n",
       " 'HispDad_5',\n",
       " 'HispDad_6']"
      ]
     },
     "execution_count": 9,
     "metadata": {},
     "output_type": "execute_result"
    }
   ],
   "source": [
    "Feature = quantitative + qual_encoded\n",
    "Upd_Dset = Atrain1[Feature]\n",
    "\n",
    "\n",
    "from sklearn.preprocessing import OneHotEncoder\n",
    "\n",
    "RaceMomEncod = OneHotEncoder()\n",
    "RaceDadEncod = OneHotEncoder()\n",
    "HispMomEncod = OneHotEncoder()\n",
    "HispDadEncod = OneHotEncoder()\n",
    "RaceMomColumn = RaceMomEncod.fit_transform(Upd_Dset.RACEMOM.values.reshape(-1,1)).toarray()\n",
    "RaceDadColumn = RaceDadEncod.fit_transform(Upd_Dset.RACEDAD.values.reshape(-1,1)).toarray()\n",
    "HispMomColumn = HispMomEncod.fit_transform(Upd_Dset.HISPMOM_E.values.reshape(-1,1)).toarray()\n",
    "HispDadColumn = HispDadEncod.fit_transform(Upd_Dset.HISPDAD_E.values.reshape(-1,1)).toarray()\n",
    "\n",
    "RaceMom = pd.DataFrame(RaceMomColumn, columns = [\"RaceMom_\"+str(int(i)) for i in range(RaceMomColumn.shape[1])])\n",
    "Upd_Dset = pd.concat([Upd_Dset, RaceMom], axis=1)\n",
    "Atrain1 = pd.concat([Atrain1, RaceMom], axis=1)\n",
    "RaceMomList = RaceMom.columns.tolist()\n",
    "RaceDad = pd.DataFrame(RaceDadColumn, columns = [\"RaceDad_\"+str(int(i)) for i in range(RaceDadColumn.shape[1])])\n",
    "Upd_Dset = pd.concat([Upd_Dset, RaceDad], axis=1)\n",
    "Atrain1 = pd.concat([Atrain1, RaceDad], axis=1)\n",
    "RaceDadList = RaceDad.columns.tolist()\n",
    "\n",
    "\n",
    "HispMom = pd.DataFrame(HispMomColumn, columns = [\"HispMom_\"+str(int(i)) for i in range(HispMomColumn.shape[1])])\n",
    "Upd_Dset = pd.concat([Upd_Dset, HispMom], axis=1)\n",
    "Atrain1 = pd.concat([Atrain1, HispMom], axis=1)\n",
    "HispMomList = HispMom.columns.tolist()\n",
    "HispDad = pd.DataFrame(HispDadColumn, columns = [\"HispDad_\"+str(int(i)) for i in range(HispDadColumn.shape[1])])\n",
    "Upd_Dset = pd.concat([Upd_Dset, HispDad], axis=1)\n",
    "Atrain1 = pd.concat([Atrain1, HispDad], axis=1)\n",
    "HispDadList = HispDad.columns.tolist()\n",
    "\n",
    "\n",
    "NewQual = RaceMomList + RaceDadList + HispMomList + HispDadList\n",
    "NewQual\n",
    "\n"
   ]
  },
  {
   "cell_type": "code",
   "execution_count": 10,
   "metadata": {
    "colab": {},
    "colab_type": "code",
    "id": "ynk1W4QbqzN5"
   },
   "outputs": [],
   "source": [
    "del Atrain1[\"RACEMOM\"]\n",
    "del Atrain1[\"RACEDAD\"]\n",
    "del Atrain1[\"HISPMOM\"]\n",
    "del Atrain1[\"HISPDAD\"]\n",
    "quantitative.remove(\"RACEMOM\")\n",
    "quantitative.remove(\"RACEDAD\")"
   ]
  },
  {
   "cell_type": "code",
   "execution_count": 11,
   "metadata": {
    "colab": {},
    "colab_type": "code",
    "id": "b3MOJQ775yIm"
   },
   "outputs": [],
   "source": [
    "#This step is followed by Spearman's rank correlation"
   ]
  },
  {
   "cell_type": "code",
   "execution_count": 12,
   "metadata": {
    "colab": {
     "base_uri": "https://localhost:8080/",
     "height": 983
    },
    "colab_type": "code",
    "id": "hB8gwKXI4QYb",
    "outputId": "436b29ed-5da0-49b1-9372-c26dcf09aeb3"
   },
   "outputs": [
    {
     "data": {
      "image/png": "[encoded data removed]",
      "text/plain": [
       "<Figure size 432x1152 with 1 Axes>"
      ]
     },
     "metadata": {
      "needs_background": "light"
     },
     "output_type": "display_data"
    }
   ],
   "source": [
    "def spearman(frame, Feature):\n",
    "    spr = pd.DataFrame()\n",
    "    spr['feature'] = Feature\n",
    "    spr['spearman'] = [frame[f].corr(frame['BWEIGHT'], 'spearman') for f in Feature]\n",
    "    spr = spr.sort_values('spearman')\n",
    "    plt.figure(figsize=(6, 0.25*len(Feature)))\n",
    "    sns.barplot(data=spr, y='feature', x='spearman', orient='h')\n",
    "    return \n",
    "Feature = quantitative + NewQual\n",
    "spearman(Atrain1, Feature)"
   ]
  },
  {
   "cell_type": "code",
   "execution_count": 13,
   "metadata": {
    "colab": {
     "base_uri": "https://localhost:8080/",
     "height": 34
    },
    "colab_type": "code",
    "id": "DRIfozlT5fBR",
    "outputId": "bfb00249-9402-48b7-f18f-9aa6b956934d"
   },
   "outputs": [],
   "source": [
    "Corelated_Feature = [\"WEEKS\",\"GAINED\",\"RaceMom_1\",\"RaceDad_1\",\"VISITS\",\"MAGE\"]\n",
    "Upd_Dset = Upd_Dset[Corelated_Feature]"
   ]
  },
  {
   "cell_type": "code",
   "execution_count": 14,
   "metadata": {
    "colab": {},
    "colab_type": "code",
    "id": "YpM0olvm8WVC"
   },
   "outputs": [],
   "source": [
    "#This is followed by the step Missing Data"
   ]
  },
  {
   "cell_type": "code",
   "execution_count": 15,
   "metadata": {
    "colab": {
     "base_uri": "https://localhost:8080/",
     "height": 142
    },
    "colab_type": "code",
    "id": "24eQoxhmMOUz",
    "outputId": "c789f39b-9416-4830-994e-689901a24325"
   },
   "outputs": [
    {
     "data": {
      "text/html": [
       "<div>\n",
       "<style scoped>\n",
       "    .dataframe tbody tr th:only-of-type {\n",
       "        vertical-align: middle;\n",
       "    }\n",
       "\n",
       "    .dataframe tbody tr th {\n",
       "        vertical-align: top;\n",
       "    }\n",
       "\n",
       "    .dataframe thead th {\n",
       "        text-align: right;\n",
       "    }\n",
       "</style>\n",
       "<table border=\"1\" class=\"dataframe\">\n",
       "  <thead>\n",
       "    <tr style=\"text-align: right;\">\n",
       "      <th></th>\n",
       "      <th>Total</th>\n",
       "      <th>Percent</th>\n",
       "    </tr>\n",
       "  </thead>\n",
       "  <tbody>\n",
       "    <tr>\n",
       "      <th>MAGE</th>\n",
       "      <td>0</td>\n",
       "      <td>0.0</td>\n",
       "    </tr>\n",
       "    <tr>\n",
       "      <th>VISITS</th>\n",
       "      <td>0</td>\n",
       "      <td>0.0</td>\n",
       "    </tr>\n",
       "    <tr>\n",
       "      <th>RaceDad_1</th>\n",
       "      <td>0</td>\n",
       "      <td>0.0</td>\n",
       "    </tr>\n",
       "    <tr>\n",
       "      <th>RaceMom_1</th>\n",
       "      <td>0</td>\n",
       "      <td>0.0</td>\n",
       "    </tr>\n",
       "    <tr>\n",
       "      <th>GAINED</th>\n",
       "      <td>0</td>\n",
       "      <td>0.0</td>\n",
       "    </tr>\n",
       "    <tr>\n",
       "      <th>WEEKS</th>\n",
       "      <td>0</td>\n",
       "      <td>0.0</td>\n",
       "    </tr>\n",
       "  </tbody>\n",
       "</table>\n",
       "</div>"
      ],
      "text/plain": [
       "           Total  Percent\n",
       "MAGE           0      0.0\n",
       "VISITS         0      0.0\n",
       "RaceDad_1      0      0.0\n",
       "RaceMom_1      0      0.0\n",
       "GAINED         0      0.0\n",
       "WEEKS          0      0.0"
      ]
     },
     "execution_count": 15,
     "metadata": {},
     "output_type": "execute_result"
    }
   ],
   "source": [
    "total = Upd_Dset.isnull().sum().sort_values(ascending=False)\n",
    "percent = (Upd_Dset.isnull().sum()/Upd_Dset.isnull().count()).sort_values(ascending=False)\n",
    "missing_data = pd.concat([total, percent], axis=1, keys=['Total', 'Percent'])\n",
    "missing_data"
   ]
  },
  {
   "cell_type": "markdown",
   "metadata": {
    "colab_type": "text",
    "id": "XYHR8ek-MOU1"
   },
   "source": [
    "### TASK 8: Tackle the dummy categorical variables by introducing dummy variables"
   ]
  },
  {
   "cell_type": "code",
   "execution_count": 16,
   "metadata": {
    "colab": {},
    "colab_type": "code",
    "id": "NyBCrOJCMOU2"
   },
   "outputs": [],
   "source": [
    "#THIS STEP IS PERFORMED IN THE TASK NUMBER 6, AS MENTIONED IN THE ANNOUNCEMENT SECTION IN CANVAS"
   ]
  },
  {
   "cell_type": "markdown",
   "metadata": {
    "colab_type": "text",
    "id": "DR-_D0HDMOU3"
   },
   "source": [
    "### TASK 9.1: Randomly split the dataset into training, Tr (80%) and testing, Te (20%)"
   ]
  },
  {
   "cell_type": "code",
   "execution_count": 17,
   "metadata": {
    "colab": {
     "base_uri": "https://localhost:8080/",
     "height": 34
    },
    "colab_type": "code",
    "id": "np4UY0QOMOU4",
    "outputId": "dc525e07-b6ce-49cd-f5ac-2946b5f4316c"
   },
   "outputs": [
    {
     "data": {
      "text/plain": [
       "(81120, 6)"
      ]
     },
     "execution_count": 17,
     "metadata": {},
     "output_type": "execute_result"
    }
   ],
   "source": [
    "#This section performs splitting of the dataset into training and testing with 80% and 20% respectively\n",
    "from sklearn.model_selection import train_test_split\n",
    "ATrain, ATest = train_test_split(Upd_Dset, test_size=0.2, random_state=12345)\n",
    "BTrain, BTest = train_test_split(Atrain1[[\"BWEIGHT\"]], test_size=0.2, random_state=12345)\n",
    "ATrain.shape"
   ]
  },
  {
   "cell_type": "markdown",
   "metadata": {
    "colab_type": "text",
    "id": "JOoElzvMMOU5"
   },
   "source": [
    "### TASK 9.2: On the training dataset, apply a normalization technique"
   ]
  },
  {
   "cell_type": "code",
   "execution_count": 18,
   "metadata": {
    "colab": {
     "base_uri": "https://localhost:8080/",
     "height": 244
    },
    "colab_type": "code",
    "id": "TeWza647MOU6",
    "outputId": "e293cafd-2b3a-420a-9057-c01592c6ba8d"
   },
   "outputs": [
    {
     "name": "stdout",
     "output_type": "stream",
     "text": [
      "[[ 0.10582437 -0.6065972   0.54184335  0.57364927  3.09653639  1.89333778]\n",
      " [ 0.90245325 -0.38646079  0.54184335  0.57364927 -0.65010304  0.54925152]\n",
      " [ 0.10582437 -0.09294558  0.54184335  0.57364927 -0.11486883  0.04521917]\n",
      " ...\n",
      " [ 1.69908213 -0.01956678  0.54184335  0.57364927  2.02606798 -0.29080239]\n",
      " [ 0.10582437 -0.38646079  0.54184335  0.57364927 -0.11486883 -0.79483474]\n",
      " [-1.48743339  0.86097886  0.54184335  0.57364927 -0.11486883  1.725327  ]]\n"
     ]
    },
    {
     "name": "stderr",
     "output_type": "stream",
     "text": [
      "C:\\ProgramData\\Anaconda3\\lib\\site-packages\\sklearn\\preprocessing\\data.py:625: DataConversionWarning: Data with input dtype int64, float64 were all converted to float64 by StandardScaler.\n",
      "  return self.partial_fit(X, y)\n",
      "C:\\ProgramData\\Anaconda3\\lib\\site-packages\\sklearn\\base.py:462: DataConversionWarning: Data with input dtype int64, float64 were all converted to float64 by StandardScaler.\n",
      "  return self.fit(X, **fit_params).transform(X)\n"
     ]
    }
   ],
   "source": [
    "stdscaler = StandardScaler()\n",
    "ATrain_X = stdscaler.fit_transform(ATrain)\n",
    "print(ATrain_X)"
   ]
  },
  {
   "cell_type": "markdown",
   "metadata": {
    "colab_type": "text",
    "id": "qTiFNPYVMOU7"
   },
   "source": [
    "### TASK 9.3: Apply the training data statistics to normalize the testing data as well."
   ]
  },
  {
   "cell_type": "code",
   "execution_count": 19,
   "metadata": {
    "colab": {
     "base_uri": "https://localhost:8080/",
     "height": 142
    },
    "colab_type": "code",
    "id": "hJLdcfwAMOU7",
    "outputId": "b1d7b175-7082-441a-bfa0-0acdc0543b45"
   },
   "outputs": [
    {
     "name": "stderr",
     "output_type": "stream",
     "text": [
      "C:\\ProgramData\\Anaconda3\\lib\\site-packages\\sklearn\\preprocessing\\data.py:625: DataConversionWarning: Data with input dtype int64, float64 were all converted to float64 by StandardScaler.\n",
      "  return self.partial_fit(X, y)\n",
      "C:\\ProgramData\\Anaconda3\\lib\\site-packages\\sklearn\\base.py:462: DataConversionWarning: Data with input dtype int64, float64 were all converted to float64 by StandardScaler.\n",
      "  return self.fit(X, **fit_params).transform(X)\n"
     ]
    },
    {
     "data": {
      "text/plain": [
       "(20280, 6)"
      ]
     },
     "execution_count": 19,
     "metadata": {},
     "output_type": "execute_result"
    }
   ],
   "source": [
    "stdscaler = StandardScaler()\n",
    "ATest_X = stdscaler.fit_transform(ATest)\n",
    "ATest_X.shape"
   ]
  },
  {
   "cell_type": "markdown",
   "metadata": {
    "colab_type": "text",
    "id": "vxb-WyMFMOU8"
   },
   "source": [
    "### TASK 10: Find the linear regression function describing the training dataset using a technique you recently learned in class.  CLOSED-FORM vs. Gradient Descent (batch or stochastic or mini-batch).\n",
    "###          PLEASE DO NOT CALL ANY LIBRARY FUNCTION THAT MIGHT DO THE TASK FOR YOU. If you do, you are most likely get a ZERO for this assignment."
   ]
  },
  {
   "cell_type": "code",
   "execution_count": 20,
   "metadata": {
    "colab": {},
    "colab_type": "code",
    "id": "0mK41NIBfvDA"
   },
   "outputs": [],
   "source": [
    "ATrain_X = np.c_[np.ones(ATrain_X.shape[0]), ATrain_X]"
   ]
  },
  {
   "cell_type": "code",
   "execution_count": 21,
   "metadata": {
    "colab": {
     "base_uri": "https://localhost:8080/",
     "height": 34
    },
    "colab_type": "code",
    "id": "e-6gkibRMOU9",
    "outputId": "610f674b-f78a-4f1a-f76f-e0ae813afffb"
   },
   "outputs": [],
   "source": [
    "alpha = 0.01 #Step size\n",
    "iterations = 2000 #No. of iterations\n",
    "m =  BTrain.size#No. of data points\n",
    "np.random.seed(15) #Set the seed\n",
    "theta = np.random.rand(7, 1) #Pick some random values to start with\n",
    "#The following code performs the linear regression function for the training dataset\n",
    "def gradient_descent(x, y, theta, iterations, alpha):\n",
    "    past_costs = []\n",
    "    past_thetas = [theta]\n",
    "    for i in range(iterations):\n",
    "        prediction = np.dot(x, theta)\n",
    "        error = prediction - y\n",
    "        cost = 1/(2*m) * np.dot(error.T, error)\n",
    "        past_costs.append(cost)\n",
    "        theta = theta - (alpha * (1/m) * np.dot(x.T, error))\n",
    "        past_thetas.append(theta)\n",
    "    return past_thetas, past_costs\n",
    "#Here we pass the relavant variables to the function and get back the values\n",
    "past_thetas, past_costs = gradient_descent(ATrain_X, BTrain, theta, iterations, alpha)\n",
    "theta = past_thetas[-1]\n"
   ]
  },
  {
   "cell_type": "code",
   "execution_count": 22,
   "metadata": {
    "colab": {
     "base_uri": "https://localhost:8080/",
     "height": 85
    },
    "colab_type": "code",
    "id": "PFMLrS5H4FCY",
    "outputId": "63354cff-9dcd-4372-f96d-3a427617becb"
   },
   "outputs": [
    {
     "name": "stdout",
     "output_type": "stream",
     "text": [
      "[[7.25755901]\n",
      " [0.72804958]\n",
      " [0.15497727]\n",
      " [0.09682795]\n",
      " [0.04686019]\n",
      " [0.03710909]\n",
      " [0.12257981]]\n"
     ]
    }
   ],
   "source": [
    "print(theta)"
   ]
  },
  {
   "cell_type": "markdown",
   "metadata": {
    "colab_type": "text",
    "id": "-QFTRzJ9MOU-"
   },
   "source": [
    "### Task 11: Predict BWEIGHT target variable for each of the testing dataset using the regression line you learned in Task 10, and report RMSE(testing) (Root Mean Squared Error)"
   ]
  },
  {
   "cell_type": "code",
   "execution_count": 23,
   "metadata": {
    "colab": {
     "base_uri": "https://localhost:8080/",
     "height": 136
    },
    "colab_type": "code",
    "id": "7LPrzdiGMOU-",
    "outputId": "98843add-02c5-4b30-e539-a67e59da30f3"
   },
   "outputs": [
    {
     "name": "stdout",
     "output_type": "stream",
     "text": [
      "[[7.33271723]\n",
      " [7.15834595]\n",
      " [7.41667537]\n",
      " ...\n",
      " [8.7796177 ]\n",
      " [7.17341219]\n",
      " [7.73252332]]\n"
     ]
    }
   ],
   "source": [
    "ATest_X = np.c_[np.ones(ATest_X.shape[0]), ATest_X] \n",
    "Bpredict = np.dot(ATest_X, theta)\n",
    "print(Bpredict)"
   ]
  },
  {
   "cell_type": "code",
   "execution_count": 24,
   "metadata": {
    "colab": {
     "base_uri": "https://localhost:8080/",
     "height": 34
    },
    "colab_type": "code",
    "id": "YNQIRheb4l1_",
    "outputId": "5228f9cd-6ec0-4707-f6c6-b3252fe4b19f"
   },
   "outputs": [
    {
     "data": {
      "text/plain": [
       "20280"
      ]
     },
     "execution_count": 24,
     "metadata": {},
     "output_type": "execute_result"
    }
   ],
   "source": [
    "Bpredict.size"
   ]
  },
  {
   "cell_type": "code",
   "execution_count": 25,
   "metadata": {
    "colab": {
     "base_uri": "https://localhost:8080/",
     "height": 51
    },
    "colab_type": "code",
    "id": "yHglmWRX41rC",
    "outputId": "721b7e42-4d85-4132-bb3a-5691aeec05e3"
   },
   "outputs": [
    {
     "name": "stdout",
     "output_type": "stream",
     "text": [
      "BWEIGHT    1.066824\n",
      "dtype: float64\n"
     ]
    }
   ],
   "source": [
    "def error(actual, predicted):\n",
    "    return np.sqrt(np.sum(np.square(actual-predicted))/len(actual))\n",
    "print(error(BTest, Bpredict))"
   ]
  },
  {
   "cell_type": "code",
   "execution_count": 26,
   "metadata": {
    "colab": {},
    "colab_type": "code",
    "id": "GzZGY4bq7Rrp"
   },
   "outputs": [],
   "source": [
    "Weight1 = error(BTest, Bpredict)"
   ]
  },
  {
   "cell_type": "markdown",
   "metadata": {
    "colab_type": "text",
    "id": "9pyA7kYuMOVA"
   },
   "source": [
    "### Repeat TASK 10 additional four times : Run linear regression training again\n",
    "### After each run, Report RMSE(testing)\n"
   ]
  },
  {
   "cell_type": "code",
   "execution_count": 27,
   "metadata": {
    "colab": {
     "base_uri": "https://localhost:8080/",
     "height": 187
    },
    "colab_type": "code",
    "id": "-_O-K9qBMOVA",
    "outputId": "0037988f-47b5-4942-81ec-68f88841ccce"
   },
   "outputs": [
    {
     "name": "stdout",
     "output_type": "stream",
     "text": [
      "Gradient Descent 2: [7.25755901] [0.72803317]\n",
      "[[7.33249279]\n",
      " [7.15807764]\n",
      " [7.41683635]\n",
      " ...\n",
      " [8.77936633]\n",
      " [7.17349484]\n",
      " [7.73265588]]\n",
      "BWEIGHT    1.066857\n",
      "dtype: float64\n"
     ]
    }
   ],
   "source": [
    "alpha = 0.01 #Step size\n",
    "iterations = 2000 #No. of iterations\n",
    "m =  BTrain.size#No. of data points\n",
    "np.random.seed(29) #Set the seed\n",
    "theta = np.random.rand(7, 1) #Pick some random values to start with\n",
    "#The following code performs the linear regression function for the training dataset\n",
    "def gradient_descent(x, y, theta, iterations, alpha):\n",
    "    past_costs = []\n",
    "    past_thetas = [theta]\n",
    "    for i in range(iterations):\n",
    "        prediction = np.dot(x, theta)\n",
    "        error = prediction - y\n",
    "        cost = 1/(2*m) * np.dot(error.T, error)\n",
    "        past_costs.append(cost)\n",
    "        theta = theta - (alpha * (1/m) * np.dot(x.T, error))\n",
    "        past_thetas.append(theta)\n",
    "    return past_thetas, past_costs\n",
    "#Here we pass the relavant variables to the function and get back the values\n",
    "past_thetas, past_costs = gradient_descent(ATrain_X, BTrain, theta, iterations, alpha)\n",
    "theta = past_thetas[-1]\n",
    "#Results are printed here\n",
    "print(\"Gradient Descent 2:\", theta[0], theta[1])\n",
    "Bpredict2 = np.dot(ATest_X, theta)\n",
    "print(Bpredict2)\n",
    "def error(actual, predicted):\n",
    "    return np.sqrt(np.sum(np.square(actual-predicted))/len(actual))\n",
    "print(error(BTest, Bpredict2))\n",
    "Weight2 = error(BTest, Bpredict2)"
   ]
  },
  {
   "cell_type": "code",
   "execution_count": 28,
   "metadata": {
    "colab": {
     "base_uri": "https://localhost:8080/",
     "height": 187
    },
    "colab_type": "code",
    "id": "ofp-RjE2CKQy",
    "outputId": "3fc96559-54d5-46b4-d0b9-a6797a2c3023"
   },
   "outputs": [
    {
     "name": "stdout",
     "output_type": "stream",
     "text": [
      "Gradient Descent 3: [7.25755902] [0.7280529]\n",
      "[[7.3327617 ]\n",
      " [7.15839908]\n",
      " [7.41664359]\n",
      " ...\n",
      " [8.77966755]\n",
      " [7.17339583]\n",
      " [7.73249744]]\n",
      "BWEIGHT    1.066818\n",
      "dtype: float64\n"
     ]
    }
   ],
   "source": [
    "alpha = 0.01 #Step size\n",
    "iterations = 3000 #No. of iterations\n",
    "m =  BTrain.size#No. of data points\n",
    "np.random.seed(4) #Set the seed\n",
    "theta = np.random.rand(7, 1) #Pick some random values to start with\n",
    "#The following code performs the linear regression function for the training dataset\n",
    "def gradient_descent(x, y, theta, iterations, alpha):\n",
    "    past_costs = []\n",
    "    past_thetas = [theta]\n",
    "    for i in range(iterations):\n",
    "        prediction = np.dot(x, theta)\n",
    "        error = prediction - y\n",
    "        cost = 1/(2*m) * np.dot(error.T, error)\n",
    "        past_costs.append(cost)\n",
    "        theta = theta - (alpha * (1/m) * np.dot(x.T, error))\n",
    "        past_thetas.append(theta)\n",
    "    return past_thetas, past_costs\n",
    "#Here we pass the relavant variables to the function and get back the values\n",
    "past_thetas, past_costs = gradient_descent(ATrain_X, BTrain, theta, iterations, alpha)\n",
    "theta = past_thetas[-1]\n",
    "#Results are printed here\n",
    "print(\"Gradient Descent 3:\", theta[0], theta[1])\n",
    "Bpredict3 = np.dot(ATest_X, theta)\n",
    "print(Bpredict3)\n",
    "def error(actual, predicted):\n",
    "    return np.sqrt(np.sum(np.square(actual-predicted))/len(actual))\n",
    "print(error(BTest, Bpredict3))\n",
    "Weight3 = error(BTest, Bpredict3)"
   ]
  },
  {
   "cell_type": "code",
   "execution_count": 29,
   "metadata": {
    "colab": {
     "base_uri": "https://localhost:8080/",
     "height": 187
    },
    "colab_type": "code",
    "id": "OIINLp_lCxth",
    "outputId": "7eeee7d3-55e8-4178-fe62-7f3e2d13433a"
   },
   "outputs": [
    {
     "name": "stdout",
     "output_type": "stream",
     "text": [
      "Gradient Descent 4: [7.25755902] [0.72805277]\n",
      "[[7.33275995]\n",
      " [7.15839698]\n",
      " [7.41664485]\n",
      " ...\n",
      " [8.77966558]\n",
      " [7.17339647]\n",
      " [7.73249848]]\n",
      "BWEIGHT    1.066818\n",
      "dtype: float64\n"
     ]
    }
   ],
   "source": [
    "alpha = 0.04 #Step size\n",
    "iterations = 4000 #No. of iterations\n",
    "m =  BTrain.size#No. of data points\n",
    "np.random.seed(3) #Set the seed\n",
    "theta = np.random.rand(7, 1) #Pick some random values to start with\n",
    "#The following code performs the linear regression function for the training dataset\n",
    "def gradient_descent(x, y, theta, iterations, alpha):\n",
    "    past_costs = []\n",
    "    past_thetas = [theta]\n",
    "    for i in range(iterations):\n",
    "        prediction = np.dot(x, theta)\n",
    "        error = prediction - y\n",
    "        cost = 1/(2*m) * np.dot(error.T, error)\n",
    "        past_costs.append(cost)\n",
    "        theta = theta - (alpha * (1/m) * np.dot(x.T, error))\n",
    "        past_thetas.append(theta)\n",
    "    return past_thetas, past_costs\n",
    "#Here we pass the relavant variables to the function and get back the values\n",
    "past_thetas, past_costs = gradient_descent(ATrain_X, BTrain, theta, iterations, alpha)\n",
    "theta = past_thetas[-1]\n",
    "#Results are printed here\n",
    "print(\"Gradient Descent 4:\", theta[0], theta[1])\n",
    "Bpredict4 = np.dot(ATest_X, theta)\n",
    "print(Bpredict4)\n",
    "def error(actual, predicted):\n",
    "    return np.sqrt(np.sum(np.square(actual-predicted))/len(actual))\n",
    "print(error(BTest, Bpredict4))\n",
    "Weight4 = error(BTest, Bpredict4)"
   ]
  },
  {
   "cell_type": "code",
   "execution_count": 30,
   "metadata": {
    "colab": {
     "base_uri": "https://localhost:8080/",
     "height": 187
    },
    "colab_type": "code",
    "id": "pypaxSF_C7Vb",
    "outputId": "dd9bcb17-7d86-4aa6-9187-6b3801df0baf"
   },
   "outputs": [
    {
     "name": "stdout",
     "output_type": "stream",
     "text": [
      "Gradient Descent 5: [7.25755902] [0.72805277]\n",
      "[[7.33275995]\n",
      " [7.15839698]\n",
      " [7.41664485]\n",
      " ...\n",
      " [8.77966558]\n",
      " [7.17339647]\n",
      " [7.73249848]]\n",
      "BWEIGHT    1.066818\n",
      "dtype: float64\n"
     ]
    }
   ],
   "source": [
    "alpha = 0.05 #Step size\n",
    "iterations = 5000 #No. of iterations\n",
    "m =  BTrain.size#No. of data points\n",
    "np.random.seed(5) #Set the seed\n",
    "theta = np.random.rand(7, 1) #Pick some random values to start with\n",
    "#The following code performs the linear regression function for the training dataset\n",
    "def gradient_descent(x, y, theta, iterations, alpha):\n",
    "    past_costs = []\n",
    "    past_thetas = [theta]\n",
    "    for i in range(iterations):\n",
    "        prediction = np.dot(x, theta)\n",
    "        error = prediction - y\n",
    "        cost = 1/(2*m) * np.dot(error.T, error)\n",
    "        past_costs.append(cost)\n",
    "        theta = theta - (alpha * (1/m) * np.dot(x.T, error))\n",
    "        past_thetas.append(theta)\n",
    "    return past_thetas, past_costs\n",
    "#Here we pass the relavant variables to the function and get back the values\n",
    "past_thetas, past_costs = gradient_descent(ATrain_X, BTrain, theta, iterations, alpha)\n",
    "theta = past_thetas[-1]\n",
    "#Results are printed here\n",
    "print(\"Gradient Descent 5:\", theta[0], theta[1])\n",
    "Bpredict5 = np.dot(ATest_X, theta)\n",
    "print(Bpredict5)\n",
    "def error(actual, predicted):\n",
    "    return np.sqrt(np.sum(np.square(actual-predicted))/len(actual))\n",
    "print(error(BTest, Bpredict5))\n",
    "Weight5 = error(BTest, Bpredict5)"
   ]
  },
  {
   "cell_type": "markdown",
   "metadata": {
    "colab_type": "text",
    "id": "ap7U_AF8MOVC"
   },
   "source": [
    "### Task 12: Finally, Report RMSE(testing) = Average(RMSE_test) $\\pm$ Stdev(RMSE_test)\n",
    "### Here Average(RMSE_test) = average of all the 5 RMSE(testing) scores you got above.\n",
    "### And, stdev(RMSE_test) = standard deviation of all the 5 RMSE(testing) scores above."
   ]
  },
  {
   "cell_type": "code",
   "execution_count": 31,
   "metadata": {
    "colab": {
     "base_uri": "https://localhost:8080/",
     "height": 71
    },
    "colab_type": "code",
    "id": "imTZo4qHMOVC",
    "outputId": "b5c9edfc-e10f-4958-9fac-ce3843107485"
   },
   "outputs": [
    {
     "name": "stdout",
     "output_type": "stream",
     "text": [
      "BWEIGHT    1.066827\n",
      "dtype: float64\n"
     ]
    }
   ],
   "source": [
    "AverageRMSE = (Weight1 + Weight2  + Weight3 + Weight4 + Weight5 )/ 5\n",
    "print(AverageRMSE)"
   ]
  },
  {
   "cell_type": "code",
   "execution_count": 32,
   "metadata": {
    "colab": {
     "base_uri": "https://localhost:8080/",
     "height": 54
    },
    "colab_type": "code",
    "id": "IGQW61b4FBs7",
    "outputId": "07d4f148-9c58-4642-87f8-884628abb2bf"
   },
   "outputs": [
    {
     "name": "stdout",
     "output_type": "stream",
     "text": [
      "3.080177308659534e-06\n"
     ]
    }
   ],
   "source": [
    "StdDev = np.std([Weight1, Weight2 , Weight3 , Weight4 , Weight5])/5\n",
    "print(StdDev)"
   ]
  },
  {
   "cell_type": "code",
   "execution_count": 33,
   "metadata": {
    "colab": {
     "base_uri": "https://localhost:8080/",
     "height": 71
    },
    "colab_type": "code",
    "id": "jZM84c52ICds",
    "outputId": "6fcce503-94df-452b-e035-d0a85d69fc73"
   },
   "outputs": [
    {
     "name": "stdout",
     "output_type": "stream",
     "text": [
      "BWEIGHT    1.066824\n",
      "dtype: float64\n"
     ]
    }
   ],
   "source": [
    "RMSE = AverageRMSE +- StdDev\n",
    "print(RMSE)"
   ]
  },
  {
   "cell_type": "markdown",
   "metadata": {
    "colab_type": "text",
    "id": "qfTcr2muMOVD"
   },
   "source": [
    "### Task 13: Run linear regression one last time on the whole dataset  (i.e, training+testing which is preprocessed by you above)."
   ]
  },
  {
   "cell_type": "code",
   "execution_count": 34,
   "metadata": {
    "colab": {
     "base_uri": "https://localhost:8080/",
     "height": 34
    },
    "colab_type": "code",
    "id": "L0igB7ntMOVE",
    "outputId": "87f65b9f-1742-4b16-dcf4-82ae1f672164"
   },
   "outputs": [
    {
     "data": {
      "text/plain": [
       "(101400, 1)"
      ]
     },
     "execution_count": 34,
     "metadata": {},
     "output_type": "execute_result"
    }
   ],
   "source": [
    "TotalDatasetA = Upd_Dset\n",
    "TotalDatasetB = Atrain1[[\"BWEIGHT\"]]\n",
    "TotalDatasetB.shape"
   ]
  },
  {
   "cell_type": "code",
   "execution_count": 35,
   "metadata": {
    "colab": {
     "base_uri": "https://localhost:8080/",
     "height": 142
    },
    "colab_type": "code",
    "id": "-JOkmxaRkNSl",
    "outputId": "cfa2b0ba-5498-4832-f5ef-5a647ea4fda6"
   },
   "outputs": [
    {
     "name": "stderr",
     "output_type": "stream",
     "text": [
      "C:\\ProgramData\\Anaconda3\\lib\\site-packages\\sklearn\\preprocessing\\data.py:625: DataConversionWarning: Data with input dtype int64, float64 were all converted to float64 by StandardScaler.\n",
      "  return self.partial_fit(X, y)\n",
      "C:\\ProgramData\\Anaconda3\\lib\\site-packages\\sklearn\\base.py:462: DataConversionWarning: Data with input dtype int64, float64 were all converted to float64 by StandardScaler.\n",
      "  return self.fit(X, **fit_params).transform(X)\n"
     ]
    },
    {
     "data": {
      "text/plain": [
       "(101400, 6)"
      ]
     },
     "execution_count": 35,
     "metadata": {},
     "output_type": "execute_result"
    }
   ],
   "source": [
    "stdscaler = StandardScaler()\n",
    "XWholeTrain_N = stdscaler.fit_transform(TotalDatasetA)\n",
    "XWholeTrain_N = pd.DataFrame(XWholeTrain_N)\n",
    "XWholeTrain_N.shape"
   ]
  },
  {
   "cell_type": "code",
   "execution_count": 36,
   "metadata": {
    "colab": {},
    "colab_type": "code",
    "id": "8_u4I849m--h"
   },
   "outputs": [],
   "source": [
    "XWholeTrain_N = np.c_[np.ones(XWholeTrain_N.shape[0]), XWholeTrain_N]"
   ]
  },
  {
   "cell_type": "code",
   "execution_count": 37,
   "metadata": {
    "colab": {
     "base_uri": "https://localhost:8080/",
     "height": 85
    },
    "colab_type": "code",
    "id": "3LeJLNJAo91i",
    "outputId": "095df178-cd17-46a4-f747-49203207271b"
   },
   "outputs": [
    {
     "name": "stdout",
     "output_type": "stream",
     "text": [
      "Gradient Descent: [[7.25806582]\n",
      " [0.72703969]\n",
      " [0.15699981]\n",
      " [0.09097086]\n",
      " [0.05182455]\n",
      " [0.03599505]\n",
      " [0.12227135]]\n"
     ]
    }
   ],
   "source": [
    "alpha = 0.01 #Step size\n",
    "iterations = 2000 #No. of iterations\n",
    "m =  TotalDatasetB.size#No. of data points\n",
    "np.random.seed(23) #Set the seed\n",
    "theta = np.random.rand(7, 1) #Pick some random values to start with\n",
    "#The following code performs the linear regression function for the training dataset\n",
    "def gradient_descent(x, y, theta, iterations, alpha):\n",
    "    past_costs = []\n",
    "    past_thetas = [theta]\n",
    "    for i in range(iterations):\n",
    "        prediction = np.dot(x, theta)\n",
    "        error = prediction - y\n",
    "        cost = 1/(2*m) * np.dot(error.T, error)\n",
    "        past_costs.append(cost)\n",
    "        theta = theta - (alpha * (1/m) * np.dot(x.T, error))\n",
    "        past_thetas.append(theta)\n",
    "    return past_thetas, past_costs\n",
    "#Pass the relevant variables to the function and get the new values back...\n",
    "past_thetas, past_costs = gradient_descent(XWholeTrain_N, TotalDatasetB, theta, iterations, alpha)\n",
    "theta1 = past_thetas[-1]\n",
    "#Results are printed here\n",
    "print(\"Gradient Descent:\", theta1)"
   ]
  },
  {
   "cell_type": "markdown",
   "metadata": {
    "colab_type": "text",
    "id": "Hax41yK3MOVF"
   },
   "source": [
    "### Task 14: Preprocess the judge-without-label.csv file according টo the strategy you applied above on the whole dataset (task 13)"
   ]
  },
  {
   "cell_type": "code",
   "execution_count": 38,
   "metadata": {
    "colab": {},
    "colab_type": "code",
    "id": "Y70X6bBnMOVG"
   },
   "outputs": [],
   "source": [
    "Atrain2 = pd.read_csv(\"C:/Users/gurun/Desktop/ML1/judge-without-labels.csv\")"
   ]
  },
  {
   "cell_type": "code",
   "execution_count": 39,
   "metadata": {
    "colab": {
     "base_uri": "https://localhost:8080/",
     "height": 68
    },
    "colab_type": "code",
    "id": "YJx-2on1c04g",
    "outputId": "260eb958-f793-455e-eef7-cdff60d8588f"
   },
   "outputs": [
    {
     "name": "stdout",
     "output_type": "stream",
     "text": [
      "(2001, 36)\n",
      "33\n",
      "['HISPMOM', 'HISPDAD']\n"
     ]
    }
   ],
   "source": [
    "quantitative = [f for f in Atrain2.columns if Atrain2.dtypes[f] != 'object']\n",
    "quantitative.remove('ID')\n",
    "qualitative = [f for f in Atrain2.columns if Atrain2.dtypes[f] == 'object']\n",
    "print(Atrain2.shape)\n",
    "print(len(quantitative))\n",
    "print(qualitative)"
   ]
  },
  {
   "cell_type": "code",
   "execution_count": 40,
   "metadata": {
    "colab": {},
    "colab_type": "code",
    "id": "JxysbR_zdZ1s"
   },
   "outputs": [],
   "source": [
    "for c in qualitative:\n",
    "    Atrain2[c] = Atrain2[c].astype('category')\n",
    "    if Atrain2[c].isnull().any():\n",
    "        Atrain2[c] = Atrain2[c].cat.add_categories(['MISSING'])\n",
    "        Atrain2[c] = Atrain2[c].fillna('MISSING')"
   ]
  },
  {
   "cell_type": "code",
   "execution_count": 41,
   "metadata": {
    "colab": {},
    "colab_type": "code",
    "id": "zpMiPlj1QG6I"
   },
   "outputs": [
    {
     "name": "stderr",
     "output_type": "stream",
     "text": [
      "C:\\ProgramData\\Anaconda3\\lib\\site-packages\\sklearn\\preprocessing\\label.py:235: DataConversionWarning: A column-vector y was passed when a 1d array was expected. Please change the shape of y to (n_samples, ), for example using ravel().\n",
      "  y = column_or_1d(y, warn=True)\n",
      "C:\\ProgramData\\Anaconda3\\lib\\site-packages\\sklearn\\preprocessing\\label.py:235: DataConversionWarning: A column-vector y was passed when a 1d array was expected. Please change the shape of y to (n_samples, ), for example using ravel().\n",
      "  y = column_or_1d(y, warn=True)\n"
     ]
    }
   ],
   "source": [
    "from sklearn.preprocessing import LabelEncoder\n",
    "lenc = LabelEncoder()\n",
    "Atrain2[[\"HISPDAD\"]] = lenc.fit_transform(Atrain2[[\"HISPDAD\"]])\n",
    "Atrain2[[\"HISPMOM\"]] = lenc.fit_transform(Atrain2[[\"HISPMOM\"]])"
   ]
  },
  {
   "cell_type": "code",
   "execution_count": 42,
   "metadata": {
    "colab": {
     "base_uri": "https://localhost:8080/",
     "height": 873
    },
    "colab_type": "code",
    "id": "CXzsAbX9h_b4",
    "outputId": "54293132-6836-4b78-fa0d-a575c9fbc5ac"
   },
   "outputs": [
    {
     "name": "stdout",
     "output_type": "stream",
     "text": [
      "<class 'list'>\n",
      "<class 'list'>\n",
      "<class 'list'>\n",
      "<class 'list'>\n"
     ]
    },
    {
     "name": "stderr",
     "output_type": "stream",
     "text": [
      "C:\\ProgramData\\Anaconda3\\lib\\site-packages\\sklearn\\preprocessing\\_encoders.py:368: FutureWarning: The handling of integer data will change in version 0.22. Currently, the categories are determined based on the range [0, max(values)], while in the future they will be determined based on the unique values.\n",
      "If you want the future behaviour and silence this warning, you can specify \"categories='auto'\".\n",
      "In case you used a LabelEncoder before this OneHotEncoder to convert the categories to integers, then you can now use the OneHotEncoder directly.\n",
      "  warnings.warn(msg, FutureWarning)\n",
      "C:\\ProgramData\\Anaconda3\\lib\\site-packages\\sklearn\\preprocessing\\_encoders.py:368: FutureWarning: The handling of integer data will change in version 0.22. Currently, the categories are determined based on the range [0, max(values)], while in the future they will be determined based on the unique values.\n",
      "If you want the future behaviour and silence this warning, you can specify \"categories='auto'\".\n",
      "In case you used a LabelEncoder before this OneHotEncoder to convert the categories to integers, then you can now use the OneHotEncoder directly.\n",
      "  warnings.warn(msg, FutureWarning)\n",
      "C:\\ProgramData\\Anaconda3\\lib\\site-packages\\sklearn\\preprocessing\\_encoders.py:368: FutureWarning: The handling of integer data will change in version 0.22. Currently, the categories are determined based on the range [0, max(values)], while in the future they will be determined based on the unique values.\n",
      "If you want the future behaviour and silence this warning, you can specify \"categories='auto'\".\n",
      "In case you used a LabelEncoder before this OneHotEncoder to convert the categories to integers, then you can now use the OneHotEncoder directly.\n",
      "  warnings.warn(msg, FutureWarning)\n",
      "C:\\ProgramData\\Anaconda3\\lib\\site-packages\\sklearn\\preprocessing\\_encoders.py:368: FutureWarning: The handling of integer data will change in version 0.22. Currently, the categories are determined based on the range [0, max(values)], while in the future they will be determined based on the unique values.\n",
      "If you want the future behaviour and silence this warning, you can specify \"categories='auto'\".\n",
      "In case you used a LabelEncoder before this OneHotEncoder to convert the categories to integers, then you can now use the OneHotEncoder directly.\n",
      "  warnings.warn(msg, FutureWarning)\n"
     ]
    },
    {
     "data": {
      "text/plain": [
       "['RaceMom_0',\n",
       " 'RaceMom_1',\n",
       " 'RaceMom_2',\n",
       " 'RaceMom_3',\n",
       " 'RaceMom_4',\n",
       " 'RaceMom_5',\n",
       " 'RaceMom_6',\n",
       " 'RaceMom_7',\n",
       " 'RaceMom_8',\n",
       " 'RaceDad_0',\n",
       " 'RaceDad_1',\n",
       " 'RaceDad_2',\n",
       " 'RaceDad_3',\n",
       " 'RaceDad_4',\n",
       " 'RaceDad_5',\n",
       " 'RaceDad_6',\n",
       " 'HispMom_0',\n",
       " 'HispMom_1',\n",
       " 'HispMom_2',\n",
       " 'HispMom_3',\n",
       " 'HispMom_4',\n",
       " 'HispDad_0',\n",
       " 'HispDad_1',\n",
       " 'HispDad_2',\n",
       " 'HispDad_3',\n",
       " 'HispDad_4',\n",
       " 'HispDad_5',\n",
       " 'HispDad_6']"
      ]
     },
     "execution_count": 42,
     "metadata": {},
     "output_type": "execute_result"
    }
   ],
   "source": [
    "from sklearn.preprocessing import OneHotEncoder\n",
    "RaceMomEncod = OneHotEncoder()\n",
    "RaceDadEncod = OneHotEncoder()\n",
    "HispMomEncod = OneHotEncoder()\n",
    "HispDadEncod = OneHotEncoder()\n",
    "\n",
    "\n",
    "RaceMomColumn = RaceMomEncod.fit_transform(Atrain2.RACEMOM.values.reshape(-1,1)).toarray()\n",
    "RaceDadColumn = RaceDadEncod.fit_transform(Atrain2.RACEDAD.values.reshape(-1,1)).toarray()\n",
    "HispMomColumn = HispMomEncod.fit_transform(Atrain2.HISPMOM.values.reshape(-1,1)).toarray()\n",
    "HispDadColumn = HispDadEncod.fit_transform(Atrain2.HISPDAD.values.reshape(-1,1)).toarray()\n",
    "\n",
    "RaceMom = pd.DataFrame(RaceMomColumn, columns = [\"RaceMom_\"+str(int(i)) for i in range(RaceMomColumn.shape[1])])\n",
    "Atrain2 = pd.concat([Atrain2, RaceMom], axis=1)\n",
    "RaceMomList = RaceMom.columns.tolist()\n",
    "print(type(RaceMomList))\n",
    "RaceDad = pd.DataFrame(RaceDadColumn, columns = [\"RaceDad_\"+str(int(i)) for i in range(RaceDadColumn.shape[1])])\n",
    "Atrain2 = pd.concat([Atrain2, RaceDad], axis=1)\n",
    "RaceDadList = RaceDad.columns.tolist()\n",
    "print(type(RaceDadList))\n",
    "\n",
    "\n",
    "\n",
    "HispMom = pd.DataFrame(HispMomColumn, columns = [\"HispMom_\"+str(int(i)) for i in range(HispMomColumn.shape[1])])\n",
    "Atrain2 = pd.concat([Atrain2, HispMom], axis=1)\n",
    "HispMomList = HispMom.columns.tolist()\n",
    "print(type(HispMomList))\n",
    "HispDad = pd.DataFrame(HispDadColumn, columns = [\"HispDad_\"+str(int(i)) for i in range(HispDadColumn.shape[1])])\n",
    "Atrain2 = pd.concat([Atrain2, HispDad], axis=1)\n",
    "HispDadList = HispDad.columns.tolist()\n",
    "print(type(HispDadList))\n",
    "\n",
    "\n",
    "\n",
    "NewQual = RaceMomList + RaceDadList + HispMomList + HispDadList\n",
    "NewQual"
   ]
  },
  {
   "cell_type": "code",
   "execution_count": 43,
   "metadata": {
    "colab": {
     "base_uri": "https://localhost:8080/",
     "height": 1122
    },
    "colab_type": "code",
    "id": "75ufgCZljrHw",
    "outputId": "367667bb-ccfb-449f-8491-04c4bcb59a0f"
   },
   "outputs": [
    {
     "name": "stdout",
     "output_type": "stream",
     "text": [
      "['WEEKS', 'GAINED', 'RaceMom_1', 'RaceDad_1', 'VISITS', 'MAGE']\n",
      "      WEEKS  GAINED  RaceMom_1  RaceDad_1  VISITS  MAGE\n",
      "0        36      70        1.0        1.0      11    26\n",
      "1        41      36        0.0        0.0      15    18\n",
      "2        39      18        1.0        1.0      10    25\n",
      "3        39      25        1.0        1.0      10    22\n",
      "4        38      38        1.0        1.0      15    26\n",
      "5        39      51        0.0        0.0       5    25\n",
      "6        38      12        1.0        1.0       7    21\n",
      "7        39      20        1.0        1.0      10    21\n",
      "8        40      78        1.0        1.0      18    21\n",
      "9        37      33        1.0        1.0      10    30\n",
      "10       41      24        1.0        1.0      13    32\n",
      "11       39      30        1.0        1.0      14    27\n",
      "12       40      20        1.0        1.0      18    31\n",
      "13       39      27        1.0        1.0      13    23\n",
      "14       32      30        0.0        1.0      13    26\n",
      "15       37      25        0.0        0.0      16    30\n",
      "16       39      30        1.0        1.0      16    30\n",
      "17       38      25        0.0        0.0      18    40\n",
      "18       36      18        1.0        1.0      13    26\n",
      "19       41      26        1.0        1.0      13    22\n",
      "20       39      54        1.0        1.0       8    24\n",
      "21       38      37        1.0        1.0      11    40\n",
      "22       40      45        1.0        1.0      13    27\n",
      "23       39      50        0.0        0.0      15    26\n",
      "24       39      20        1.0        1.0      14    20\n",
      "25       41      25        1.0        1.0      14    37\n",
      "26       38      25        1.0        1.0       8    27\n",
      "27       39      36        1.0        1.0      13    18\n",
      "28       39      53        1.0        1.0      11    20\n",
      "29       40      32        1.0        1.0      10    29\n",
      "...     ...     ...        ...        ...     ...   ...\n",
      "1971     39      10        0.0        0.0       9    30\n",
      "1972     39      35        1.0        0.0       8    21\n",
      "1973     39      24        1.0        1.0      14    37\n",
      "1974     40      31        0.0        0.0       7    31\n",
      "1975     35      30        1.0        1.0      10    37\n",
      "1976     38      15        1.0        1.0      10    33\n",
      "1977     44       0        1.0        1.0      15    22\n",
      "1978     35      32        1.0        1.0       6    31\n",
      "1979     39      31        0.0        0.0      10    34\n",
      "1980     39      33        0.0        0.0      13    21\n",
      "1981     39      47        1.0        1.0      12    25\n",
      "1982     39      39        1.0        1.0       7    30\n",
      "1983     39      21        1.0        1.0      15    33\n",
      "1984     40       6        0.0        0.0      12    22\n",
      "1985     37       0        1.0        1.0       2    40\n",
      "1986     39      57        1.0        1.0      14    27\n",
      "1987     43       0        1.0        1.0      10    22\n",
      "1988     40      22        0.0        0.0       5    29\n",
      "1989     42      28        1.0        1.0      12    35\n",
      "1990     38      27        0.0        0.0      13    29\n",
      "1991     40      33        1.0        1.0      15    37\n",
      "1992     39      71        0.0        0.0      11    48\n",
      "1993     31      35        1.0        1.0      12    24\n",
      "1994     42      12        1.0        1.0       8    25\n",
      "1995     35      17        1.0        1.0       9    21\n",
      "1996     39      20        1.0        1.0      10    26\n",
      "1997     40      25        1.0        1.0      17    27\n",
      "1998     38      29        1.0        1.0      11    34\n",
      "1999     34      20        1.0        1.0      13    27\n",
      "2000     33      45        1.0        1.0      16    27\n",
      "\n",
      "[2001 rows x 6 columns]\n"
     ]
    }
   ],
   "source": [
    "print(Corelated_Feature)\n",
    "Upd_Dset = Atrain2\n",
    "Upd_Dset = Upd_Dset[Corelated_Feature]\n",
    "print(Upd_Dset)"
   ]
  },
  {
   "cell_type": "code",
   "execution_count": 44,
   "metadata": {
    "colab": {
     "base_uri": "https://localhost:8080/",
     "height": 142
    },
    "colab_type": "code",
    "id": "QSjgaiQSkPEN",
    "outputId": "e3d2f075-9176-44fc-ba1e-df4d7b13691e"
   },
   "outputs": [
    {
     "data": {
      "text/html": [
       "<div>\n",
       "<style scoped>\n",
       "    .dataframe tbody tr th:only-of-type {\n",
       "        vertical-align: middle;\n",
       "    }\n",
       "\n",
       "    .dataframe tbody tr th {\n",
       "        vertical-align: top;\n",
       "    }\n",
       "\n",
       "    .dataframe thead th {\n",
       "        text-align: right;\n",
       "    }\n",
       "</style>\n",
       "<table border=\"1\" class=\"dataframe\">\n",
       "  <thead>\n",
       "    <tr style=\"text-align: right;\">\n",
       "      <th></th>\n",
       "      <th>Total</th>\n",
       "      <th>Percent</th>\n",
       "    </tr>\n",
       "  </thead>\n",
       "  <tbody>\n",
       "    <tr>\n",
       "      <th>MAGE</th>\n",
       "      <td>0</td>\n",
       "      <td>0.0</td>\n",
       "    </tr>\n",
       "    <tr>\n",
       "      <th>VISITS</th>\n",
       "      <td>0</td>\n",
       "      <td>0.0</td>\n",
       "    </tr>\n",
       "    <tr>\n",
       "      <th>RaceDad_1</th>\n",
       "      <td>0</td>\n",
       "      <td>0.0</td>\n",
       "    </tr>\n",
       "    <tr>\n",
       "      <th>RaceMom_1</th>\n",
       "      <td>0</td>\n",
       "      <td>0.0</td>\n",
       "    </tr>\n",
       "    <tr>\n",
       "      <th>GAINED</th>\n",
       "      <td>0</td>\n",
       "      <td>0.0</td>\n",
       "    </tr>\n",
       "    <tr>\n",
       "      <th>WEEKS</th>\n",
       "      <td>0</td>\n",
       "      <td>0.0</td>\n",
       "    </tr>\n",
       "  </tbody>\n",
       "</table>\n",
       "</div>"
      ],
      "text/plain": [
       "           Total  Percent\n",
       "MAGE           0      0.0\n",
       "VISITS         0      0.0\n",
       "RaceDad_1      0      0.0\n",
       "RaceMom_1      0      0.0\n",
       "GAINED         0      0.0\n",
       "WEEKS          0      0.0"
      ]
     },
     "execution_count": 44,
     "metadata": {},
     "output_type": "execute_result"
    }
   ],
   "source": [
    "total = Upd_Dset.isnull().sum().sort_values(ascending=False)\n",
    "percent = (Upd_Dset.isnull().sum()/Upd_Dset.isnull().count()).sort_values(ascending=False)\n",
    "missing_data = pd.concat([total, percent], axis=1, keys=['Total', 'Percent'])\n",
    "missing_data"
   ]
  },
  {
   "cell_type": "code",
   "execution_count": 45,
   "metadata": {
    "colab": {
     "base_uri": "https://localhost:8080/",
     "height": 244
    },
    "colab_type": "code",
    "id": "X9rjVQC0kdMu",
    "outputId": "aba70960-a2da-427e-da6a-3381d1f63980"
   },
   "outputs": [
    {
     "name": "stdout",
     "output_type": "stream",
     "text": [
      "[[-1.11249727  2.89943334  0.55175434  0.58254393 -0.38903008 -0.27317247]\n",
      " [ 0.86978861  0.41592566 -1.81240078 -1.71660874  0.69743076 -1.61005563]\n",
      " [ 0.07687426 -0.89887252  0.55175434  0.58254393 -0.66064529 -0.44028286]\n",
      " ...\n",
      " [-0.31958292 -0.09538474  0.55175434  0.58254393 -0.38903008  1.0637107 ]\n",
      " [-1.90541162 -0.75278383  0.55175434  0.58254393  0.15420034 -0.10606207]\n",
      " [-2.3018688   1.07332475  0.55175434  0.58254393  0.96904597 -0.10606207]]\n"
     ]
    },
    {
     "name": "stderr",
     "output_type": "stream",
     "text": [
      "C:\\ProgramData\\Anaconda3\\lib\\site-packages\\sklearn\\preprocessing\\data.py:625: DataConversionWarning: Data with input dtype int64, float64 were all converted to float64 by StandardScaler.\n",
      "  return self.partial_fit(X, y)\n",
      "C:\\ProgramData\\Anaconda3\\lib\\site-packages\\sklearn\\base.py:462: DataConversionWarning: Data with input dtype int64, float64 were all converted to float64 by StandardScaler.\n",
      "  return self.fit(X, **fit_params).transform(X)\n"
     ]
    }
   ],
   "source": [
    "stdscaler = StandardScaler()\n",
    "ATotalTrain_X = stdscaler.fit_transform(Upd_Dset)\n",
    "print(ATotalTrain_X)"
   ]
  },
  {
   "cell_type": "code",
   "execution_count": 46,
   "metadata": {
    "colab": {},
    "colab_type": "code",
    "id": "XLZ88Polkueg"
   },
   "outputs": [],
   "source": [
    "ATotalTrain_X = np.c_[np.ones(ATotalTrain_X.shape[0]), ATotalTrain_X]"
   ]
  },
  {
   "cell_type": "markdown",
   "metadata": {
    "colab_type": "text",
    "id": "pDqjisImMOVH"
   },
   "source": [
    "### Task 15: Predict BWEIGHT for each of the samples from the judge-without-label.csv file, and save the results in judge-submission-run-1.csv in the format below. Please change the run number and report what changes you have made in a corresponding file run-1.txt."
   ]
  },
  {
   "cell_type": "code",
   "execution_count": 47,
   "metadata": {
    "colab": {},
    "colab_type": "code",
    "id": "TxOBxDNgMOVH"
   },
   "outputs": [],
   "source": [
    "#The predicted BWEIGHT for each of th samples from the judge-without-label.csv and \n",
    "#the results are saved into the judge-submission-run-1.csv file\n",
    "Bpredict = np.dot(ATotalTrain_X, theta1)\n",
    "Bpredict.shape\n",
    "np.savetxt(\"judge-submissio-run-1.csv\", Bpredict, delimiter=\",\" )"
   ]
  },
  {
   "cell_type": "markdown",
   "metadata": {
    "colab_type": "text",
    "id": "3fdnNVZLMOVJ"
   },
   "source": [
    "# Tasks only for CSCI-5930 (Grad) students"
   ]
  },
  {
   "cell_type": "markdown",
   "metadata": {
    "colab_type": "text",
    "id": "paoS81k9MOVJ"
   },
   "source": [
    "### Task 16: Repeat tasks 9-12 three times, and report the ultimate RMSE_test average $\\pm$ ultimate RMSE_test stdev"
   ]
  },
  {
   "cell_type": "code",
   "execution_count": 48,
   "metadata": {
    "colab": {
     "base_uri": "https://localhost:8080/",
     "height": 187
    },
    "colab_type": "code",
    "id": "dqkQP61KMOVJ",
    "outputId": "c5ddccbe-2324-4d7b-aae9-bfad4db60685"
   },
   "outputs": [
    {
     "name": "stdout",
     "output_type": "stream",
     "text": [
      "Gradient Descent 5: [7.25755902] [0.72805277]\n",
      "[[7.33276005]\n",
      " [7.1583971 ]\n",
      " [7.41664477]\n",
      " ...\n",
      " [8.7796657 ]\n",
      " [7.17339644]\n",
      " [7.73249842]]\n",
      "BWEIGHT    1.066818\n",
      "dtype: float64\n"
     ]
    }
   ],
   "source": [
    "alpha = 0.01 #Step size\n",
    "iterations = 6000 #No. of iterations\n",
    "m =  BTrain.size#No. of data points\n",
    "np.random.seed(6) #Set the seed\n",
    "theta = np.random.rand(7, 1) #Pick some random values to start with\n",
    "#The following code performs the linear regression function for the training dataset\n",
    "def gradient_descent(x, y, theta, iterations, alpha):\n",
    "    past_costs = []\n",
    "    past_thetas = [theta]\n",
    "    for i in range(iterations):\n",
    "        prediction = np.dot(x, theta)\n",
    "        error = prediction - y\n",
    "        cost = 1/(2*m) * np.dot(error.T, error)\n",
    "        past_costs.append(cost)\n",
    "        theta = theta - (alpha * (1/m) * np.dot(x.T, error))\n",
    "        past_thetas.append(theta)\n",
    "    return past_thetas, past_costs\n",
    "#Here we pass the relavant variables to the function and get back the values\n",
    "past_thetas, past_costs = gradient_descent(ATrain_X, BTrain, theta, iterations, alpha)\n",
    "theta = past_thetas[-1]\n",
    "#Results are printed here\n",
    "print(\"Gradient Descent 5:\", theta[0], theta[1])\n",
    "Bpredict6 = np.dot(ATest_X, theta)\n",
    "print(Bpredict6)\n",
    "def error(actual, predicted):\n",
    "    return np.sqrt(np.sum(np.square(actual-predicted))/len(actual))\n",
    "print(error(BTest, Bpredict6))\n",
    "Weight6 = error(BTest, Bpredict6)"
   ]
  },
  {
   "cell_type": "code",
   "execution_count": 49,
   "metadata": {
    "colab": {
     "base_uri": "https://localhost:8080/",
     "height": 187
    },
    "colab_type": "code",
    "id": "srd19rYbeNYW",
    "outputId": "ed740ad6-491f-45f5-8e1d-049aca8c2b19"
   },
   "outputs": [
    {
     "name": "stdout",
     "output_type": "stream",
     "text": [
      "Gradient Descent 5: [7.25755902] [0.72805277]\n",
      "[[7.33276   ]\n",
      " [7.15839704]\n",
      " [7.41664481]\n",
      " ...\n",
      " [8.77966564]\n",
      " [7.17339645]\n",
      " [7.73249845]]\n",
      "BWEIGHT    1.066818\n",
      "dtype: float64\n"
     ]
    }
   ],
   "source": [
    "alpha = 0.01 #Step size\n",
    "iterations = 7000 #No. of iterations\n",
    "m =  BTrain.size#No. of data points\n",
    "np.random.seed(7) #Set the seed\n",
    "theta = np.random.rand(7, 1) #Pick some random values to start with\n",
    "#The following code performs the linear regression function for the training dataset\n",
    "def gradient_descent(x, y, theta, iterations, alpha):\n",
    "    past_costs = []\n",
    "    past_thetas = [theta]\n",
    "    for i in range(iterations):\n",
    "        prediction = np.dot(x, theta)\n",
    "        error = prediction - y\n",
    "        cost = 1/(2*m) * np.dot(error.T, error)\n",
    "        past_costs.append(cost)\n",
    "        theta = theta - (alpha * (1/m) * np.dot(x.T, error))\n",
    "        past_thetas.append(theta)\n",
    "    return past_thetas, past_costs\n",
    "#Here we pass the relavant variables to the function and get back the values\n",
    "past_thetas, past_costs = gradient_descent(ATrain_X, BTrain, theta, iterations, alpha)\n",
    "theta = past_thetas[-1]\n",
    "#Results are printed here\n",
    "print(\"Gradient Descent 5:\", theta[0], theta[1])\n",
    "Bpredict7 = np.dot(ATest_X, theta)\n",
    "print(Bpredict7)\n",
    "def error(actual, predicted):\n",
    "    return np.sqrt(np.sum(np.square(actual-predicted))/len(actual))\n",
    "print(error(BTest, Bpredict7))\n",
    "Weight7 = error(BTest, Bpredict7)"
   ]
  },
  {
   "cell_type": "code",
   "execution_count": 50,
   "metadata": {
    "colab": {
     "base_uri": "https://localhost:8080/",
     "height": 187
    },
    "colab_type": "code",
    "id": "y2Q79D5zeN1k",
    "outputId": "1955dea7-81f8-4c1f-9e0c-6ca496720392"
   },
   "outputs": [
    {
     "name": "stdout",
     "output_type": "stream",
     "text": [
      "Gradient Descent 5: [7.25755902] [0.72805277]\n",
      "[[7.33275994]\n",
      " [7.15839697]\n",
      " [7.41664486]\n",
      " ...\n",
      " [8.77966557]\n",
      " [7.17339648]\n",
      " [7.73249848]]\n",
      "BWEIGHT    1.066818\n",
      "dtype: float64\n"
     ]
    }
   ],
   "source": [
    "alpha = 0.01 #Step size\n",
    "iterations = 8000 #No. of iterations\n",
    "m =  BTrain.size#No. of data points\n",
    "np.random.seed(8) #Set the seed\n",
    "theta = np.random.rand(7, 1) #Pick some random values to start with\n",
    "#The following code performs the linear regression function for the training dataset\n",
    "def gradient_descent(x, y, theta, iterations, alpha):\n",
    "    past_costs = []\n",
    "    past_thetas = [theta]\n",
    "    for i in range(iterations):\n",
    "        prediction = np.dot(x, theta)\n",
    "        error = prediction - y\n",
    "        cost = 1/(2*m) * np.dot(error.T, error)\n",
    "        past_costs.append(cost)\n",
    "        theta = theta - (alpha * (1/m) * np.dot(x.T, error))\n",
    "        past_thetas.append(theta)\n",
    "    return past_thetas, past_costs\n",
    "#Here we pass the relavant variables to the function and get back the values\n",
    "past_thetas, past_costs = gradient_descent(ATrain_X, BTrain, theta, iterations, alpha)\n",
    "theta = past_thetas[-1]\n",
    "#Results are printed here\n",
    "print(\"Gradient Descent 5:\", theta[0], theta[1])\n",
    "Bpredict8 = np.dot(ATest_X, theta)\n",
    "print(Bpredict8)\n",
    "def error(actual, predicted):\n",
    "    return np.sqrt(np.sum(np.square(actual-predicted))/len(actual))\n",
    "print(error(BTest, Bpredict8))\n",
    "Weight8 = error(BTest, Bpredict8)"
   ]
  },
  {
   "cell_type": "code",
   "execution_count": 51,
   "metadata": {},
   "outputs": [
    {
     "name": "stdout",
     "output_type": "stream",
     "text": [
      "BWEIGHT    1.066824\n",
      "dtype: float64\n"
     ]
    }
   ],
   "source": [
    "UltimateAverageRMSE = (Weight1 + Weight2  + Weight3 + Weight4 + Weight5 + Weight6 + Weight7 + Weight8)/ 8\n",
    "print(UltimateAverageRMSE)"
   ]
  },
  {
   "cell_type": "code",
   "execution_count": 52,
   "metadata": {},
   "outputs": [
    {
     "name": "stdout",
     "output_type": "stream",
     "text": [
      "3.080177308659534e-06\n"
     ]
    }
   ],
   "source": [
    "UltimateStdDev = np.std([Weight1, Weight2 , Weight3 , Weight4 , Weight5 , Weight6 , Weight7 , Weight8])/8\n",
    "print(StdDev)"
   ]
  },
  {
   "cell_type": "code",
   "execution_count": 53,
   "metadata": {},
   "outputs": [
    {
     "name": "stdout",
     "output_type": "stream",
     "text": [
      "BWEIGHT    1.066824\n",
      "dtype: float64\n"
     ]
    }
   ],
   "source": [
    "UltimateRMSE = AverageRMSE +- StdDev\n",
    "print(RMSE)"
   ]
  },
  {
   "cell_type": "markdown",
   "metadata": {
    "colab_type": "text",
    "id": "M8RGDUPkMOVK"
   },
   "source": [
    "### Task 17: Make an entry in the Kaggle challenge [https://www.kaggle.com/c/csci-ml-s19-pa1/] by joining and submitting the judge-submission-run1.csv file, and please report your Kaggle handle here too.\n",
    "### There is limit of 5 entries each day untile the deadline.\n",
    "### For each of the runs you submit, please report here the RMSE you got (as reported by the Kaggle platform)."
   ]
  },
  {
   "cell_type": "code",
   "execution_count": 54,
   "metadata": {
    "colab": {},
    "colab_type": "code",
    "id": "q12lWtlJMOVL"
   },
   "outputs": [],
   "source": [
    "#Root Mean Square Error as reported by the Kaggle Platform\n",
    "Root_Mean_Sqaure_Error = 1.10322"
   ]
  },
  {
   "cell_type": "code",
   "execution_count": null,
   "metadata": {
    "colab": {},
    "colab_type": "code",
    "id": "y7ouEu0gBAhj"
   },
   "outputs": [],
   "source": []
  }
 ],
 "metadata": {
  "colab": {
   "collapsed_sections": [],
   "name": "PA1-skeleton-Ashis-Biswas.ipynb",
   "provenance": [],
   "toc_visible": true,
   "version": "0.3.2"
  },
  "kernelspec": {
   "display_name": "Python 3",
   "language": "python",
   "name": "python3"
  },
  "language_info": {
   "codemirror_mode": {
    "name": "ipython",
    "version": 3
   },
   "file_extension": ".py",
   "mimetype": "text/x-python",
   "name": "python",
   "nbconvert_exporter": "python",
   "pygments_lexer": "ipython3",
   "version": "3.7.1"
  }
 },
 "nbformat": 4,
 "nbformat_minor": 1
}
